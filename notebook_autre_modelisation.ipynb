{
 "cells": [
  {
   "cell_type": "code",
   "execution_count": 1,
   "id": "72044a90",
   "metadata": {},
   "outputs": [],
   "source": [
    "## General\n",
    "import timeit\n",
    "import re\n",
    "import pandas as pd\n",
    "import numpy as np\n",
    "from collections import Counter\n",
    "import matplotlib.style as style\n",
    "import matplotlib.pyplot as plt\n",
    "import seaborn as sns\n",
    "\n",
    "## Scikit Learn library\n",
    "from sklearn.experimental import enable_halving_search_cv\n",
    "from sklearn.model_selection import (train_test_split, StratifiedKFold, KFold, \n",
    "                                     HalvingGridSearchCV, cross_validate, GridSearchCV)\n",
    "from sklearn.ensemble import RandomForestClassifier, GradientBoostingClassifier\n",
    "import xgboost as xgb\n",
    "\n",
    "from sklearn.linear_model import LogisticRegression\n",
    "\n",
    "from sklearn.metrics import (precision_score, roc_auc_score, recall_score, \n",
    "                             f1_score, fbeta_score, confusion_matrix, roc_curve, \n",
    "                             PrecisionRecallDisplay, ConfusionMatrixDisplay,\n",
    "                            precision_recall_curve)\n",
    "from sklearn.feature_selection import SelectKBest, f_classif\n",
    "\n",
    "## imbalanced-learn\n",
    "from imblearn.pipeline import Pipeline as imbpipeline\n",
    "from imblearn.over_sampling import SMOTE\n",
    "\n",
    "## LightGBM\n",
    "from lightgbm import LGBMClassifier\n",
    "\n",
    "## To use S3 files\n",
    "import boto3\n",
    "from sagemaker import get_execution_role\n",
    "\n",
    "## SHapley Additive exPlanations.\n",
    "#import shap\n",
    "\n",
    "## Lightweight pipelining in Python\n",
    "import joblib\n",
    "\n",
    "\n",
    "%matplotlib inline\n",
    "\n",
    "#!pip3 install imblearn\n"
   ]
  },
  {
   "cell_type": "code",
   "execution_count": 2,
   "id": "ee90c0f2",
   "metadata": {},
   "outputs": [],
   "source": [
    "from sklearn.pipeline import make_pipeline, Pipeline"
   ]
  },
  {
   "cell_type": "code",
   "execution_count": 3,
   "id": "2dd527e0",
   "metadata": {},
   "outputs": [
    {
     "data": {
      "text/plain": [
       "(307507, 608)"
      ]
     },
     "execution_count": 3,
     "metadata": {},
     "output_type": "execute_result"
    }
   ],
   "source": [
    "data=pd.read_csv(\"df_current_clients.csv\")\n",
    "data.shape"
   ]
  },
  {
   "cell_type": "code",
   "execution_count": 4,
   "id": "c9ec9311",
   "metadata": {},
   "outputs": [
    {
     "data": {
      "text/plain": [
       "SK_ID_CURR                                                  0.0\n",
       "PREV_NAME_CASH_LOAN_PURPOSE_Furniture_MEAN                  0.0\n",
       "PREV_NAME_CASH_LOAN_PURPOSE_Gasificationwatersupply_MEAN    0.0\n",
       "PREV_NAME_CASH_LOAN_PURPOSE_Hobby_MEAN                      0.0\n",
       "PREV_NAME_CASH_LOAN_PURPOSE_Journey_MEAN                    0.0\n",
       "                                                           ... \n",
       "ORGANIZATION_TYPE_Realtor                                   0.0\n",
       "ORGANIZATION_TYPE_Religion                                  0.0\n",
       "ORGANIZATION_TYPE_Restaurant                                0.0\n",
       "ORGANIZATION_TYPE_Military                                  0.0\n",
       "INSTAL_COUNT                                                0.0\n",
       "Length: 608, dtype: float64"
      ]
     },
     "execution_count": 4,
     "metadata": {},
     "output_type": "execute_result"
    }
   ],
   "source": [
    "data.isnull().mean().sort_values()"
   ]
  },
  {
   "cell_type": "code",
   "execution_count": 5,
   "id": "05578743",
   "metadata": {},
   "outputs": [
    {
     "data": {
      "text/plain": [
       "['SK_ID_CURR', 'TARGET']"
      ]
     },
     "execution_count": 5,
     "metadata": {},
     "output_type": "execute_result"
    }
   ],
   "source": [
    "not_feats_columns  = ['TARGET','SK_ID_CURR','SK_ID_BUREAU','SK_ID_PREV','index']\n",
    "[i for i in data.columns if i in not_feats_columns]  "
   ]
  },
  {
   "cell_type": "code",
   "execution_count": 9,
   "id": "948cdb89",
   "metadata": {},
   "outputs": [],
   "source": [
    "feats= [col for col in data.columns if col not in ['SK_ID_CURR', 'TARGET']]"
   ]
  },
  {
   "cell_type": "code",
   "execution_count": 10,
   "id": "b2b898fd",
   "metadata": {},
   "outputs": [],
   "source": [
    "X = data[feats]\n",
    "Y = data.loc[:,\"TARGET\"]"
   ]
  },
  {
   "cell_type": "code",
   "execution_count": 11,
   "id": "b88daab5",
   "metadata": {},
   "outputs": [],
   "source": [
    "X_train, X_test, y_train, y_test = train_test_split(X, Y, test_size=0.20, stratify=Y, random_state=42)"
   ]
  },
  {
   "cell_type": "code",
   "execution_count": 12,
   "id": "9609bfc8",
   "metadata": {},
   "outputs": [
    {
     "name": "stdout",
     "output_type": "stream",
     "text": [
      "X_train: (246005, 606) et y_train: (246005,)\n",
      "---------------------\n",
      "X_test: (61502, 606) et y_test: (61502,)\n"
     ]
    }
   ],
   "source": [
    "print(\"X_train: {} et y_train: {}\".format(X_train.shape, y_train.shape))\n",
    "print(\"---------------------\")\n",
    "print(\"X_test: {} et y_test: {}\".format(X_test.shape, y_test.shape))"
   ]
  },
  {
   "cell_type": "code",
   "execution_count": 13,
   "id": "802b6a17",
   "metadata": {},
   "outputs": [],
   "source": [
    "stratified_kfold = StratifiedKFold(n_splits=3, shuffle=True, random_state=42)\n",
    "scoring = [\"roc_auc\", \"recall\", \"f1\"]\n",
    "\n",
    "\n",
    "classifiers = {\n",
    "    \"Random Forest\" : RandomForestClassifier(),\n",
    "    \"LightGBM\" : LGBMClassifier(),\n",
    "    \"Gradient Boosting\" : GradientBoostingClassifier(),\n",
    "    \"LogisticRegression\" : LogisticRegression(random_state=4),\n",
    "    \"xgboost\" : xgb.XGBClassifier()\n",
    "}"
   ]
  },
  {
   "cell_type": "code",
   "execution_count": 17,
   "id": "57f5a3d3",
   "metadata": {},
   "outputs": [
    {
     "name": "stderr",
     "output_type": "stream",
     "text": [
      "/home/bdiallo/miniconda3/lib/python3.8/site-packages/sklearn/linear_model/_logistic.py:444: ConvergenceWarning: lbfgs failed to converge (status=1):\n",
      "STOP: TOTAL NO. of ITERATIONS REACHED LIMIT.\n",
      "\n",
      "Increase the number of iterations (max_iter) or scale the data as shown in:\n",
      "    https://scikit-learn.org/stable/modules/preprocessing.html\n",
      "Please also refer to the documentation for alternative solver options:\n",
      "    https://scikit-learn.org/stable/modules/linear_model.html#logistic-regression\n",
      "  n_iter_i = _check_optimize_result(\n",
      "/home/bdiallo/miniconda3/lib/python3.8/site-packages/sklearn/linear_model/_logistic.py:444: ConvergenceWarning: lbfgs failed to converge (status=1):\n",
      "STOP: TOTAL NO. of ITERATIONS REACHED LIMIT.\n",
      "\n",
      "Increase the number of iterations (max_iter) or scale the data as shown in:\n",
      "    https://scikit-learn.org/stable/modules/preprocessing.html\n",
      "Please also refer to the documentation for alternative solver options:\n",
      "    https://scikit-learn.org/stable/modules/linear_model.html#logistic-regression\n",
      "  n_iter_i = _check_optimize_result(\n"
     ]
    }
   ],
   "source": [
    "# List of metrics results for each models \n",
    "LIST_MODEL, LIST_RECALL, LIST_ROC_AUC, LIST_F1, LIST_DURATION  = ([] for i in range(5))\n",
    "\n",
    "for key, clf in classifiers.items():\n",
    "    \n",
    "    start_time_model = timeit.default_timer()\n",
    "    \n",
    "    scores = cross_validate(clf, X_train, y_train, \n",
    "                            cv=stratified_kfold, scoring=scoring)\n",
    "    \n",
    "    end_time_model =  round(timeit.default_timer() - start_time_model, 3)\n",
    "    \n",
    "    # Adding results into LIST\n",
    "    LIST_MODEL.append(key)\n",
    "    LIST_RECALL.append(round(scores.get(\"test_recall\").mean(), 3))\n",
    "    LIST_ROC_AUC.append(round(scores.get(\"test_roc_auc\").mean(), 3))\n",
    "    LIST_F1.append(round(scores.get(\"test_f1\").mean(), 3))\n",
    "    LIST_DURATION.append(end_time_model)"
   ]
  },
  {
   "cell_type": "code",
   "execution_count": 21,
   "id": "fed0f60a",
   "metadata": {},
   "outputs": [
    {
     "data": {
      "text/plain": [
       "{'ROC_AUC': [0.71, 0.777, 0.769, 0.572, 0.767],\n",
       " 'F1': [0.002, 0.068, 0.04, 0.001, 0.105],\n",
       " 'recall': [0.001, 0.036, 0.021, 0.0, 0.06]}"
      ]
     },
     "execution_count": 21,
     "metadata": {},
     "output_type": "execute_result"
    }
   ],
   "source": [
    "list_result={\"ROC_AUC\":LIST_ROC_AUC, \"F1\": LIST_F1, \"recall\": LIST_RECALL}\n",
    "list_result"
   ]
  },
  {
   "cell_type": "code",
   "execution_count": 40,
   "id": "193360fc",
   "metadata": {},
   "outputs": [
    {
     "data": {
      "text/html": [
       "<div>\n",
       "<style scoped>\n",
       "    .dataframe tbody tr th:only-of-type {\n",
       "        vertical-align: middle;\n",
       "    }\n",
       "\n",
       "    .dataframe tbody tr th {\n",
       "        vertical-align: top;\n",
       "    }\n",
       "\n",
       "    .dataframe thead th {\n",
       "        text-align: right;\n",
       "    }\n",
       "</style>\n",
       "<table border=\"1\" class=\"dataframe\">\n",
       "  <thead>\n",
       "    <tr style=\"text-align: right;\">\n",
       "      <th></th>\n",
       "      <th>Random Forest</th>\n",
       "      <th>LightGBM</th>\n",
       "      <th>Gradient Boosting</th>\n",
       "      <th>LogisticRegression</th>\n",
       "      <th>xgboost</th>\n",
       "    </tr>\n",
       "  </thead>\n",
       "  <tbody>\n",
       "    <tr>\n",
       "      <th>ROC_AUC</th>\n",
       "      <td>0.710</td>\n",
       "      <td>0.777</td>\n",
       "      <td>0.769</td>\n",
       "      <td>0.572</td>\n",
       "      <td>0.767</td>\n",
       "    </tr>\n",
       "    <tr>\n",
       "      <th>F1</th>\n",
       "      <td>0.002</td>\n",
       "      <td>0.068</td>\n",
       "      <td>0.040</td>\n",
       "      <td>0.001</td>\n",
       "      <td>0.105</td>\n",
       "    </tr>\n",
       "    <tr>\n",
       "      <th>recall</th>\n",
       "      <td>0.001</td>\n",
       "      <td>0.036</td>\n",
       "      <td>0.021</td>\n",
       "      <td>0.000</td>\n",
       "      <td>0.060</td>\n",
       "    </tr>\n",
       "  </tbody>\n",
       "</table>\n",
       "</div>"
      ],
      "text/plain": [
       "         Random Forest  LightGBM  Gradient Boosting  LogisticRegression  \\\n",
       "ROC_AUC          0.710     0.777              0.769               0.572   \n",
       "F1               0.002     0.068              0.040               0.001   \n",
       "recall           0.001     0.036              0.021               0.000   \n",
       "\n",
       "         xgboost  \n",
       "ROC_AUC    0.767  \n",
       "F1         0.105  \n",
       "recall     0.060  "
      ]
     },
     "execution_count": 40,
     "metadata": {},
     "output_type": "execute_result"
    }
   ],
   "source": [
    "df_models_result= pd.DataFrame([LIST_ROC_AUC,LIST_F1,\n",
    "                               LIST_RECALL], index=list_result.keys(), columns = LIST_MODEL)\n",
    "df_models_result\n"
   ]
  },
  {
   "cell_type": "code",
   "execution_count": 79,
   "id": "83f3a891",
   "metadata": {},
   "outputs": [
    {
     "data": {
      "text/plain": [
       "Text(81.0, 0.5, 'Metric')"
      ]
     },
     "execution_count": 79,
     "metadata": {},
     "output_type": "execute_result"
    },
    {
     "data": {
      "image/png": "[encoded data removed]",
      "text/plain": [
       "<Figure size 864x504 with 1 Axes>"
      ]
     },
     "metadata": {
      "needs_background": "light"
     },
     "output_type": "display_data"
    }
   ],
   "source": [
    "plot= df_models_result.plot.bar(rot=0, figsize=[12,7])\n",
    "plt.title(\"Comparison of models\", size=20)\n",
    "for p in plot.patches:\n",
    "    plot.annotate(format(p.get_height(), \".3f\"), (p.get_x() + p.get_width() / 2., p.get_height()), \n",
    "                    ha=\"center\", va=\"center\", xytext=(0, 8), textcoords=\"offset points\")\n",
    "plt.legend(bbox_to_anchor=(1, 1), borderaxespad=0, title=\"Metrics\", prop={'size':15})\n",
    "plt.tight_layout()\n",
    "plt.xlabel(\"Model\", size=12)\n",
    "plt.ylabel(\"Metric\", size=12)"
   ]
  },
  {
   "cell_type": "markdown",
   "id": "81e3354f",
   "metadata": {},
   "source": [
    "# Recherche des meilleurs hyperparamètres"
   ]
  },
  {
   "cell_type": "markdown",
   "id": "68f7aba3",
   "metadata": {},
   "source": [
    "Dans le kernel  \"<citation>\" le modèle LightGBM a été optimisé et les resultats du ROC_AUC ont augmenté. La valeur obtenue est de **0.79** en moyenne. avec les paramètres suivante :<br/>\n",
    "    <div class=\"alert alert-block alert-success\">\n",
    "    nthread=4,\n",
    "    n_estimators=10000,\n",
    "    learning_rate=0.02,\n",
    "    num_leaves=34,\n",
    "    colsample_bytree=0.9497036,\n",
    "    subsample=0.8715623,\n",
    "    max_depth=8,\n",
    "    reg_alpha=0.041545473,\n",
    "    reg_lambda=0.0735294,\n",
    "    min_split_gain=0.0222415,\n",
    "    min_child_weight=39.3259775,\n",
    "    silent=-1,\n",
    "    verbose=-1\n",
    "    </div>\n",
    "    \n",
    " En analysant les différents scoring on note également que le modèle **xgboost** est celui qui a une meilleure réprésentation du recall et du F1 dans la suite je vais analyser son optimisation "
   ]
  },
  {
   "cell_type": "code",
   "execution_count": 14,
   "id": "d6170497",
   "metadata": {},
   "outputs": [],
   "source": [
    "over = SMOTE(random_state=42)\n",
    "X_train_new, y_train_new = over.fit_resample(X_train, y_train)"
   ]
  },
  {
   "cell_type": "code",
   "execution_count": 15,
   "id": "8d1ed087",
   "metadata": {},
   "outputs": [],
   "source": [
    "X_train_set,X_valid_set, y_train_set,y_valid_set = train_test_split(\n",
    "    X_train_new,y_train_new, test_size=0.2, random_state=42)"
   ]
  },
  {
   "cell_type": "code",
   "execution_count": 16,
   "id": "e29b7770",
   "metadata": {},
   "outputs": [
    {
     "data": {
      "text/plain": [
       "((452290, 606), (246005, 606))"
      ]
     },
     "execution_count": 16,
     "metadata": {},
     "output_type": "execute_result"
    }
   ],
   "source": [
    "X_train_new.shape,X_train.shape"
   ]
  },
  {
   "cell_type": "code",
   "execution_count": 6,
   "id": "119a71f6",
   "metadata": {},
   "outputs": [],
   "source": [
    "n_estimators = [100]\n",
    "subsample=[0.7, 0.8]\n",
    "learning_rate=[0.1,0.2]\n",
    "#learning_rate=[0.2]\n",
    "parameters = {'n_estimators': n_estimators,\n",
    "                 'subsample':subsample,\n",
    "                 'learning_rate':learning_rate}"
   ]
  },
  {
   "cell_type": "code",
   "execution_count": 17,
   "id": "8764dfaa",
   "metadata": {},
   "outputs": [],
   "source": [
    "xgbgrid = GridSearchCV(xgb.XGBClassifier(),\n",
    "                        param_grid = parameters,verbose=-1,cv=stratified_kfold,\n",
    "                        scoring='roc_auc')"
   ]
  },
  {
   "cell_type": "code",
   "execution_count": null,
   "id": "5ee2c212",
   "metadata": {},
   "outputs": [],
   "source": [
    "xgbgrid.fit(X_train_set, y_train_set)"
   ]
  },
  {
   "cell_type": "code",
   "execution_count": null,
   "id": "8306ef5e",
   "metadata": {},
   "outputs": [],
   "source": [
    "xgbgrid.fit(X_train, y_train)"
   ]
  },
  {
   "cell_type": "code",
   "execution_count": null,
   "id": "f79d29ce",
   "metadata": {},
   "outputs": [],
   "source": [
    "filename = 'xgboost.pkl'\n",
    "with open(filename, 'wb') as file:\n",
    "    pickle.dump(rfc_grid,file)\n",
    "    \n",
    "models_score = models_score.append(pd.DataFrame(\n",
    "    {'Models' : ['xgboost'],\n",
    "     'Training set' : [rfc_grid.best_score_],\n",
    "     'Validation set' : [f1_score(rfc_grid.predict(X_valid_set), y_valid_set)]}),\n",
    "                                   ignore_index=True)"
   ]
  }
 ],
 "metadata": {
  "kernelspec": {
   "display_name": "Python 3 (ipykernel)",
   "language": "python",
   "name": "python3"
  },
  "language_info": {
   "codemirror_mode": {
    "name": "ipython",
    "version": 3
   },
   "file_extension": ".py",
   "mimetype": "text/x-python",
   "name": "python",
   "nbconvert_exporter": "python",
   "pygments_lexer": "ipython3",
   "version": "3.8.12"
  }
 },
 "nbformat": 4,
 "nbformat_minor": 5
}
